{
 "cells": [
  {
   "cell_type": "markdown",
   "metadata": {},
   "source": [
    "Сбор данных"
   ]
  },
  {
   "cell_type": "code",
   "execution_count": 1,
   "metadata": {},
   "outputs": [],
   "source": [
    "from selenium import webdriver\n",
    "from selenium.webdriver.common.keys import Keys\n",
    "from selenium.webdriver.common.by import By\n",
    "from selenium.common.exceptions import NoSuchElementException\n",
    "import time \n",
    "import pandas as pd\n",
    " \n",
    "def scrap_page(df_entire):\n",
    "    '''Функция парсинга одной страницы'''\n",
    "    \n",
    "    poems = driver.find_elements(By.CLASS_NAME, 'poems')\n",
    "    tatar = poems[0]\n",
    "    russian = poems[1]\n",
    "\n",
    "    tatar_poems = [x.text for x in tatar.find_elements(By.CLASS_NAME, 'poem-content')]\n",
    "    russian_poems = [x.text for x in russian.find_elements(By.CLASS_NAME, 'poem-content')]\n",
    "    if len(tatar_poems) == len(russian_poems): \n",
    "        df_new = pd.DataFrame({'tatar': tatar_poems, 'russian': russian_poems})\n",
    "        df_entire = pd.concat([df_entire, df_new], ignore_index=True)\n",
    "        \n",
    "    return df_entire\n",
    "\n",
    "def go_to_next_page():\n",
    "    '''Функция перехода на следующую страницу'''\n",
    "    \n",
    "    try:\n",
    "        next_button = driver.find_element(By.CLASS_NAME, 'next-chapter')\n",
    "        next_button.click()\n",
    "        return True\n",
    "    \n",
    "    except NoSuchElementException as e:\n",
    "        return False\n",
    "    \n",
    "def get_urls():\n",
    "    '''Функция сбора адресов первых страниц каждой книги'''\n",
    "    \n",
    "    base_url = 'https://online-bibliya.ru/book/tatarskii-tatarcha-34/ot-matfeya-1458/1/compare/sovremennyi-9'\n",
    "    driver.get(base_url)\n",
    "    base_urls =[a.get_attribute('href') for a in driver.find_elements(By.XPATH, '//div[@itemtype=\"http://schema.org/Book\"]/a')]\n",
    "\n",
    "    return base_urls\n",
    "\n",
    "\n",
    "base_url = 'https://online-bibliya.ru/book/tatarskii-tatarcha-34/ot-matfeya-1458/1/compare/sovremennyi-9'\n",
    "\n",
    "driver = webdriver.Chrome()\n",
    "\n",
    "driver.get(base_url)\n",
    "\n",
    "time.sleep(1)\n",
    "\n",
    "book_urls = get_urls()\n",
    "df = pd.DataFrame(columns=['tatar', 'russian'])\n",
    "\n",
    "for url in book_urls:\n",
    "    driver.get(url)\n",
    "    dummy_url = url.replace(\"/1/compare\", \"/{}/compare\")\n",
    "    \n",
    "    total_pages = len(driver.find_element(By.CLASS_NAME, 'chapters').find_elements(By.TAG_NAME, 'a'))\n",
    "    for i in range(total_pages):\n",
    "        cur_url = dummy_url.format(i+1)\n",
    "        driver.get(cur_url)\n",
    "        time.sleep(1)\n",
    "        df = scrap_page(df)\n",
    "\n",
    "driver.quit()\n",
    "\n",
    "df.to_csv('bibble.csv', index=False)"
   ]
  },
  {
   "cell_type": "code",
   "execution_count": 2,
   "metadata": {},
   "outputs": [
    {
     "data": {
      "text/html": [
       "<div>\n",
       "<style scoped>\n",
       "    .dataframe tbody tr th:only-of-type {\n",
       "        vertical-align: middle;\n",
       "    }\n",
       "\n",
       "    .dataframe tbody tr th {\n",
       "        vertical-align: top;\n",
       "    }\n",
       "\n",
       "    .dataframe thead th {\n",
       "        text-align: right;\n",
       "    }\n",
       "</style>\n",
       "<table border=\"1\" class=\"dataframe\">\n",
       "  <thead>\n",
       "    <tr style=\"text-align: right;\">\n",
       "      <th></th>\n",
       "      <th>tatar</th>\n",
       "      <th>russian</th>\n",
       "    </tr>\n",
       "  </thead>\n",
       "  <tbody>\n",
       "    <tr>\n",
       "      <th>0</th>\n",
       "      <td>Ибраһим һәм Давыт токымыннан булган Гайсә Мәси...</td>\n",
       "      <td>Вот родословная Иисуса Христа, Происходящего и...</td>\n",
       "    </tr>\n",
       "    <tr>\n",
       "      <th>1</th>\n",
       "      <td>Ибраһим Исхакның, Исхак Ягъкубның, Ягъкуб Яһүд...</td>\n",
       "      <td>Авраам был отцом Исаака. Исаак был отцом Иаков...</td>\n",
       "    </tr>\n",
       "    <tr>\n",
       "      <th>2</th>\n",
       "      <td>Яһүд Тамардан туган Перес һәм Зерахның әтисе, ...</td>\n",
       "      <td>Иуда был отцом Фареса и Зары, чьей матерью был...</td>\n",
       "    </tr>\n",
       "    <tr>\n",
       "      <th>3</th>\n",
       "      <td>Рам Амминадабның, Амминадаб Нахшунның, Нахшун ...</td>\n",
       "      <td>Арам был отцом Аминадава. Аминадав был отцом Н...</td>\n",
       "    </tr>\n",
       "    <tr>\n",
       "      <th>4</th>\n",
       "      <td>Салмун Рәхәбтән туган Богазның, Богаз Руттан т...</td>\n",
       "      <td>Салмон был отцом Вооза, чьей матерью была Раха...</td>\n",
       "    </tr>\n",
       "  </tbody>\n",
       "</table>\n",
       "</div>"
      ],
      "text/plain": [
       "                                               tatar  \\\n",
       "0  Ибраһим һәм Давыт токымыннан булган Гайсә Мәси...   \n",
       "1  Ибраһим Исхакның, Исхак Ягъкубның, Ягъкуб Яһүд...   \n",
       "2  Яһүд Тамардан туган Перес һәм Зерахның әтисе, ...   \n",
       "3  Рам Амминадабның, Амминадаб Нахшунның, Нахшун ...   \n",
       "4  Салмун Рәхәбтән туган Богазның, Богаз Руттан т...   \n",
       "\n",
       "                                             russian  \n",
       "0  Вот родословная Иисуса Христа, Происходящего и...  \n",
       "1  Авраам был отцом Исаака. Исаак был отцом Иаков...  \n",
       "2  Иуда был отцом Фареса и Зары, чьей матерью был...  \n",
       "3  Арам был отцом Аминадава. Аминадав был отцом Н...  \n",
       "4  Салмон был отцом Вооза, чьей матерью была Раха...  "
      ]
     },
     "execution_count": 2,
     "metadata": {},
     "output_type": "execute_result"
    }
   ],
   "source": [
    "df.head()"
   ]
  },
  {
   "cell_type": "code",
   "execution_count": 3,
   "metadata": {},
   "outputs": [
    {
     "data": {
      "text/plain": [
       "(7780, 2)"
      ]
     },
     "execution_count": 3,
     "metadata": {},
     "output_type": "execute_result"
    }
   ],
   "source": [
    "df.shape"
   ]
  },
  {
   "cell_type": "markdown",
   "metadata": {},
   "source": [
    "Парсинг текста занял 7 мин 13.2 с \n",
    "\n",
    " 7780 строк"
   ]
  },
  {
   "cell_type": "code",
   "execution_count": 4,
   "metadata": {},
   "outputs": [],
   "source": [
    "from datasets import load_dataset\n",
    "data = load_dataset('AigizK/tatar-russian-parallel-corpora')\n",
    "df2 = data['train'].to_pandas()\n",
    "df2.rename(columns={'tat': 'tatar', 'rus': 'russian'}, inplace=True)"
   ]
  },
  {
   "cell_type": "code",
   "execution_count": 5,
   "metadata": {},
   "outputs": [
    {
     "data": {
      "text/html": [
       "<div>\n",
       "<style scoped>\n",
       "    .dataframe tbody tr th:only-of-type {\n",
       "        vertical-align: middle;\n",
       "    }\n",
       "\n",
       "    .dataframe tbody tr th {\n",
       "        vertical-align: top;\n",
       "    }\n",
       "\n",
       "    .dataframe thead th {\n",
       "        text-align: right;\n",
       "    }\n",
       "</style>\n",
       "<table border=\"1\" class=\"dataframe\">\n",
       "  <thead>\n",
       "    <tr style=\"text-align: right;\">\n",
       "      <th></th>\n",
       "      <th>tatar</th>\n",
       "      <th>russian</th>\n",
       "    </tr>\n",
       "  </thead>\n",
       "  <tbody>\n",
       "    <tr>\n",
       "      <th>0</th>\n",
       "      <td>\"Рэп-баттл ярдәмендә фигыльләрне өйрәнәбез\".</td>\n",
       "      <td>«Учим глаголы при помощи рэп-баттла».</td>\n",
       "    </tr>\n",
       "    <tr>\n",
       "      <th>1</th>\n",
       "      <td>\"Россия өчен укытучы\" проектында катнашучылар ...</td>\n",
       "      <td>Участники проекта «Учитель для России» — о сел...</td>\n",
       "    </tr>\n",
       "    <tr>\n",
       "      <th>2</th>\n",
       "      <td>2015 елда берничә төбәктә \"Россия өчен укытучы...</td>\n",
       "      <td>В 2015 году в нескольких регионах стартовала п...</td>\n",
       "    </tr>\n",
       "    <tr>\n",
       "      <th>3</th>\n",
       "      <td>Нәкъ шундый ук проектлар күп кенә илләрдә — Һи...</td>\n",
       "      <td>Точно такие же проекты существуют во многих ст...</td>\n",
       "    </tr>\n",
       "    <tr>\n",
       "      <th>4</th>\n",
       "      <td>Болар барысы да шул исәптән мәктәпкә мөнәсәбәт...</td>\n",
       "      <td>Все это придумано в том числе и для того, чтоб...</td>\n",
       "    </tr>\n",
       "  </tbody>\n",
       "</table>\n",
       "</div>"
      ],
      "text/plain": [
       "                                               tatar  \\\n",
       "0       \"Рэп-баттл ярдәмендә фигыльләрне өйрәнәбез\".   \n",
       "1  \"Россия өчен укытучы\" проектында катнашучылар ...   \n",
       "2  2015 елда берничә төбәктә \"Россия өчен укытучы...   \n",
       "3  Нәкъ шундый ук проектлар күп кенә илләрдә — Һи...   \n",
       "4  Болар барысы да шул исәптән мәктәпкә мөнәсәбәт...   \n",
       "\n",
       "                                             russian  \n",
       "0              «Учим глаголы при помощи рэп-баттла».  \n",
       "1  Участники проекта «Учитель для России» — о сел...  \n",
       "2  В 2015 году в нескольких регионах стартовала п...  \n",
       "3  Точно такие же проекты существуют во многих ст...  \n",
       "4  Все это придумано в том числе и для того, чтоб...  "
      ]
     },
     "execution_count": 5,
     "metadata": {},
     "output_type": "execute_result"
    }
   ],
   "source": [
    "df2.head()"
   ]
  },
  {
   "cell_type": "code",
   "execution_count": 6,
   "metadata": {},
   "outputs": [
    {
     "data": {
      "text/plain": [
       "(161831, 2)"
      ]
     },
     "execution_count": 6,
     "metadata": {},
     "output_type": "execute_result"
    }
   ],
   "source": [
    "df2.shape"
   ]
  },
  {
   "cell_type": "markdown",
   "metadata": {},
   "source": [
    "В данном датасете 161831 строка"
   ]
  },
  {
   "cell_type": "code",
   "execution_count": 7,
   "metadata": {},
   "outputs": [],
   "source": [
    "df_all = pd.concat([df, df2], ignore_index=True)\n",
    "df_all.rename(columns={'tatar': 'Tatar', 'russian': 'Russian'}, inplace=True)"
   ]
  },
  {
   "cell_type": "code",
   "execution_count": 8,
   "metadata": {},
   "outputs": [
    {
     "data": {
      "text/html": [
       "<div>\n",
       "<style scoped>\n",
       "    .dataframe tbody tr th:only-of-type {\n",
       "        vertical-align: middle;\n",
       "    }\n",
       "\n",
       "    .dataframe tbody tr th {\n",
       "        vertical-align: top;\n",
       "    }\n",
       "\n",
       "    .dataframe thead th {\n",
       "        text-align: right;\n",
       "    }\n",
       "</style>\n",
       "<table border=\"1\" class=\"dataframe\">\n",
       "  <thead>\n",
       "    <tr style=\"text-align: right;\">\n",
       "      <th></th>\n",
       "      <th>Tatar</th>\n",
       "      <th>Russian</th>\n",
       "    </tr>\n",
       "  </thead>\n",
       "  <tbody>\n",
       "    <tr>\n",
       "      <th>0</th>\n",
       "      <td>Ибраһим һәм Давыт токымыннан булган Гайсә Мәси...</td>\n",
       "      <td>Вот родословная Иисуса Христа, Происходящего и...</td>\n",
       "    </tr>\n",
       "    <tr>\n",
       "      <th>1</th>\n",
       "      <td>Ибраһим Исхакның, Исхак Ягъкубның, Ягъкуб Яһүд...</td>\n",
       "      <td>Авраам был отцом Исаака. Исаак был отцом Иаков...</td>\n",
       "    </tr>\n",
       "    <tr>\n",
       "      <th>2</th>\n",
       "      <td>Яһүд Тамардан туган Перес һәм Зерахның әтисе, ...</td>\n",
       "      <td>Иуда был отцом Фареса и Зары, чьей матерью был...</td>\n",
       "    </tr>\n",
       "    <tr>\n",
       "      <th>3</th>\n",
       "      <td>Рам Амминадабның, Амминадаб Нахшунның, Нахшун ...</td>\n",
       "      <td>Арам был отцом Аминадава. Аминадав был отцом Н...</td>\n",
       "    </tr>\n",
       "    <tr>\n",
       "      <th>4</th>\n",
       "      <td>Салмун Рәхәбтән туган Богазның, Богаз Руттан т...</td>\n",
       "      <td>Салмон был отцом Вооза, чьей матерью была Раха...</td>\n",
       "    </tr>\n",
       "  </tbody>\n",
       "</table>\n",
       "</div>"
      ],
      "text/plain": [
       "                                               Tatar  \\\n",
       "0  Ибраһим һәм Давыт токымыннан булган Гайсә Мәси...   \n",
       "1  Ибраһим Исхакның, Исхак Ягъкубның, Ягъкуб Яһүд...   \n",
       "2  Яһүд Тамардан туган Перес һәм Зерахның әтисе, ...   \n",
       "3  Рам Амминадабның, Амминадаб Нахшунның, Нахшун ...   \n",
       "4  Салмун Рәхәбтән туган Богазның, Богаз Руттан т...   \n",
       "\n",
       "                                             Russian  \n",
       "0  Вот родословная Иисуса Христа, Происходящего и...  \n",
       "1  Авраам был отцом Исаака. Исаак был отцом Иаков...  \n",
       "2  Иуда был отцом Фареса и Зары, чьей матерью был...  \n",
       "3  Арам был отцом Аминадава. Аминадав был отцом Н...  \n",
       "4  Салмон был отцом Вооза, чьей матерью была Раха...  "
      ]
     },
     "execution_count": 8,
     "metadata": {},
     "output_type": "execute_result"
    }
   ],
   "source": [
    "df_all.head()"
   ]
  },
  {
   "cell_type": "code",
   "execution_count": 9,
   "metadata": {},
   "outputs": [
    {
     "data": {
      "text/plain": [
       "(169611, 2)"
      ]
     },
     "execution_count": 9,
     "metadata": {},
     "output_type": "execute_result"
    }
   ],
   "source": [
    "df_all.shape"
   ]
  },
  {
   "cell_type": "markdown",
   "metadata": {},
   "source": [
    "После объединения получен датасет из 169611 строки"
   ]
  },
  {
   "cell_type": "code",
   "execution_count": 11,
   "metadata": {},
   "outputs": [],
   "source": [
    "df_all.to_csv('all_data.csv', index=False)"
   ]
  },
  {
   "cell_type": "code",
   "execution_count": null,
   "metadata": {},
   "outputs": [],
   "source": []
  }
 ],
 "metadata": {
  "kernelspec": {
   "display_name": "Python 3",
   "language": "python",
   "name": "python3"
  },
  "language_info": {
   "codemirror_mode": {
    "name": "ipython",
    "version": 3
   },
   "file_extension": ".py",
   "mimetype": "text/x-python",
   "name": "python",
   "nbconvert_exporter": "python",
   "pygments_lexer": "ipython3",
   "version": "3.9.13"
  }
 },
 "nbformat": 4,
 "nbformat_minor": 2
}
